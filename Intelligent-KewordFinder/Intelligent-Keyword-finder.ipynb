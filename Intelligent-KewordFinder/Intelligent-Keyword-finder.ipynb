{
 "cells": [
  {
   "cell_type": "code",
   "execution_count": null,
   "metadata": {
    "collapsed": true
   },
   "outputs": [],
   "source": [
    "#get a list of words\n",
    "#beautiful soup for getting the list of word \n",
    "\n"
   ]
  },
  {
   "cell_type": "code",
   "execution_count": 11,
   "metadata": {},
   "outputs": [],
   "source": [
    "# split the word and store in the list \n",
    "\n",
    "l = [\"sampel1 with sampl2\", \"sampel13 with sampl23\"]\n",
    "word_list = []\n",
    "for i in l:\n",
    "    j = i.split()\n",
    "    for k in j:\n",
    "        word_list.append(k)\n",
    "        "
   ]
  },
  {
   "cell_type": "code",
   "execution_count": 14,
   "metadata": {},
   "outputs": [
    {
     "name": "stdout",
     "output_type": "stream",
     "text": [
      "{'sampl2', 'sampel1', 'with', 'sampl23', 'sampel13'}\n"
     ]
    }
   ],
   "source": [
    "# apply set on list so will get the unique words\n",
    "word_list = set(word_list)\n",
    "print(word_list)"
   ]
  }
 ],
 "metadata": {
  "kernelspec": {
   "display_name": "Python 3",
   "language": "python",
   "name": "python3"
  },
  "language_info": {
   "codemirror_mode": {
    "name": "ipython",
    "version": 3
   },
   "file_extension": ".py",
   "mimetype": "text/x-python",
   "name": "python",
   "nbconvert_exporter": "python",
   "pygments_lexer": "ipython3",
   "version": "3.6.3"
  }
 },
 "nbformat": 4,
 "nbformat_minor": 2
}
